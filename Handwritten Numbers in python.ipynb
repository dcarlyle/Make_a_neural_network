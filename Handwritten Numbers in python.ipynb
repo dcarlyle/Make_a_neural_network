{
 "cells": [
  {
   "cell_type": "markdown",
   "metadata": {},
   "source": [
    "This is based on one of the projects defined by Andrew Ng and the online course Macine Learning at coursera! That Project has been done in Octave! And I would like to do it with python (Jupyter) to learn more about python and NN. It is written for python 3.\n",
    "\n",
    "There are still a lot of improvement possible like:\n",
    "0. provid numerical partial derivation calculation to check whether the Back Propagation is working fine\n",
    "0. ploting the cost function in terms of iterations\n",
    "0. using advanced optimization algorithm which can choose the learning rate automatically for faster convergence\n",
    "0. checking the learning curves\n",
    "0. changing the ragularization\n",
    "0. dividing data to three parts such as training set, cross validation set and test set and compare them."
   ]
  },
  {
   "cell_type": "code",
   "execution_count": 1,
   "metadata": {
    "collapsed": false
   },
   "outputs": [],
   "source": [
    "# required libraries\n",
    "import scipy\n",
    "import scipy.io as sio           # to import .mat file, data of images\n",
    "import numpy as np\n",
    "import random                    # to create random matrices for weights of NN as initilisation\n",
    "import matplotlib\n",
    "import matplotlib.pyplot as plt  # to plot the images"
   ]
  },
  {
   "cell_type": "markdown",
   "metadata": {},
   "source": [
    "Importing the data from the .mat file"
   ]
  },
  {
   "cell_type": "code",
   "execution_count": 2,
   "metadata": {
    "collapsed": false
   },
   "outputs": [
    {
     "name": "stdout",
     "output_type": "stream",
     "text": [
      "<class 'dict'>\n",
      "\n",
      " input (of training data) of the neural netwok\n",
      "[[ 0.  0.  0. ...,  0.  0.  0.]\n",
      " [ 0.  0.  0. ...,  0.  0.  0.]\n",
      " [ 0.  0.  0. ...,  0.  0.  0.]\n",
      " ..., \n",
      " [ 0.  0.  0. ...,  0.  0.  0.]\n",
      " [ 0.  0.  0. ...,  0.  0.  0.]\n",
      " [ 0.  0.  0. ...,  0.  0.  0.]]\n",
      "size = (5000, 400)\n",
      "\n",
      " output (of training data) of the neural netwok\n",
      "[[10]\n",
      " [10]\n",
      " [10]\n",
      " ..., \n",
      " [ 9]\n",
      " [ 9]\n",
      " [ 9]]\n",
      "size = (5000, 1)\n"
     ]
    }
   ],
   "source": [
    "# import .mat file (octave or matlab file) and show some of them and their size\n",
    "training_data = sio.loadmat('ex4data1.mat')\n",
    "print(type(training_data))\n",
    "# print(training_data)\n",
    "X = training_data['X']\n",
    "y = training_data['y']\n",
    "print('\\n','input (of training data) of the neural netwok')\n",
    "print(X)\n",
    "print('size =',np.shape(X))\n",
    "print('\\n','output (of training data) of the neural netwok')\n",
    "print(y)\n",
    "print('size =',np.shape(y))"
   ]
  },
  {
   "cell_type": "markdown",
   "metadata": {},
   "source": [
    "Showing random image"
   ]
  },
  {
   "cell_type": "code",
   "execution_count": 3,
   "metadata": {
    "collapsed": false
   },
   "outputs": [
    {
     "name": "stdout",
     "output_type": "stream",
     "text": [
      "image 984 is number [1]\n"
     ]
    },
    {
     "data": {
      "image/png": "[encoded data removed]",
      "text/plain": [
       "<matplotlib.figure.Figure at 0x7fa7b155ff28>"
      ]
     },
     "metadata": {},
     "output_type": "display_data"
    }
   ],
   "source": [
    "# show an image\n",
    "# random.seed(1)\n",
    "index = random.randint(0,np.shape(X)[0]) # 0 to 4999 indices\n",
    "print('image' ,index, 'is number', y[index])\n",
    "img = X[index][:]\n",
    "\n",
    "# the data of an image stored in a row and should be reshaped to be shown!\n",
    "# we know that all images are 20 * 20 pixels in size\n",
    "img = img.reshape((20,20)) \n",
    "img = img.T\n",
    "# print(img)\n",
    "plt.imshow(img, cmap='gray')\n",
    "plt.show()"
   ]
  },
  {
   "cell_type": "markdown",
   "metadata": {},
   "source": [
    "Some description about the below code:\n",
    "\n",
    "theta s are the weight matrices for the input layer and hidden layer.\n",
    "\n",
    "Theta1_grad and Theta2_grad are partial derivatives of cost function with respect to theta s.\n",
    "\n",
    "Line 50 - 57:\n",
    "The data is saved in X and y. X includes images and y includes labels for those images. So raw y is a 5000 by 1 matrix. I wanted to transfer it to a 10 by 5000 matrix. Because if the image is showing number 3, the output should look like this [[0], [0], [1], [0], [0], [0], [0], [0], [0], [0]] as a column-wise vector. Now I need 1 column like this for each image. Then it would be 10 by 5000 as y_vect. So I used y_vect on the rest of the code "
   ]
  },
  {
   "cell_type": "code",
   "execution_count": 4,
   "metadata": {
    "collapsed": false
   },
   "outputs": [],
   "source": [
    "# given by Siraj: https://github.com/yosoufe/Make_a_neural_network/blob/master/demo.py\n",
    "# and modified by me! the modification is to make the neural network bigger to :\n",
    "# 1 input layer\n",
    "# 1 hidden layer\n",
    "# 1 output layer (with 10 classes, one for each number)\n",
    "\n",
    "\n",
    "from numpy import exp, array, random, dot\n",
    "\n",
    "class NeuralNetwork():\n",
    "    # initilising the random matrices based on dimentsion, mean = zero and range (-0.12,0.12)\n",
    "    def __rand_init_weights(self,L_out, L_in):\n",
    "        init_epsilon = 0.12;\n",
    "        return np.random.random((L_out,L_in)) * (2 * init_epsilon) - init_epsilon;\n",
    "    \n",
    "    # initilise the object with number of neurons at each layer\n",
    "    # if you have some initial weights, you can feed them into the object (as np.ndarray).\n",
    "    # otherwise feed zero as init_theta1,init_theta2\n",
    "    def __init__(self,N_input,N_hidden,N_output,init_theta1,init_theta2):\n",
    "        self.n_input = N_input # #neurons at input level\n",
    "        self.n_hidden = N_hidden # #neurons at hidden level\n",
    "        self.n_output = N_output # #neurons at output level\n",
    "        # this was quite importnant! without good initialisation you will get stuck in local minimum and \n",
    "        # you won't get a cost function better than 3.4\n",
    "        if (isinstance(init_theta1,np.ndarray) and isinstance(init_theta2,np.ndarray)):\n",
    "            if (init_theta1.shape == (N_hidden,N_input+1) and init_theta2.shape == (N_output,N_hidden+1)): # if there is initial value for thetas\n",
    "                self.theta1 = init_theta1\n",
    "                self.theta2 = init_theta2\n",
    "                print('initial weights are consistent with the layers neuron numbers :)' )\n",
    "        else: # if there is no initial theta value for thetas\n",
    "            self.theta1 = self.__rand_init_weights(N_hidden,N_input+1) # initilise weights for first layer (with bias)\n",
    "            self.theta2 = self.__rand_init_weights(N_output,N_hidden+1) # initilise weights for 2nd layer (with bias)\n",
    "\n",
    "    # The Sigmoid function, which describes an S shaped curve.\n",
    "    # We pass the weighted sum of the inputs through this function to\n",
    "    # normalise them between 0 and 1.\n",
    "    def __sigmoid(self, x):\n",
    "        return scipy.special.expit(x) # can handles exp when is going to be too big (avoid exp overflow)\n",
    "\n",
    "    # The derivative of the Sigmoid function.\n",
    "    # This is the gradient of the Sigmoid curve.\n",
    "    # It indicates how confident we are about the existing weight.\n",
    "    def __sigmoid_derivative(self, x):\n",
    "        x = self.__sigmoid(x)\n",
    "        return (x * (1.0 - x))\n",
    "\n",
    "    # We train the neural network through a process of trial and error.\n",
    "    # Adjusting the synaptic weights each time.\n",
    "    def train(self, training_set_inputs, training_set_outputs, number_of_training_iterations,alpha,lamb):\n",
    "        X = training_set_inputs\n",
    "        y = training_set_outputs\n",
    "        m = X.shape[0]; # number of samples\n",
    "        n = X.shape[1]; # number of features\n",
    "        print (m , 'samples with' , n , 'features each')\n",
    "        y_vect = np.zeros((self.n_output,m))\n",
    "        for index in range(m):\n",
    "            y_vect [y[index]-1,index] = 1\n",
    "        \n",
    "        X1 = np.concatenate( (np.ones(( m , 1 )) , training_set_inputs ) , 1)\n",
    "        for iteration in range(number_of_training_iterations):\n",
    "            z2 = dot( self.theta1 , X1.T )\n",
    "            a2 = self.__sigmoid(z2)\n",
    "            a2_1 = np.concatenate( (np.ones(( 1 ,a2.shape[1]   )) , a2 ) , 0)\n",
    "            z3 = dot( self.theta2 ,  a2_1)\n",
    "            a3 = self.__sigmoid(z3)  # output of NN\n",
    "\n",
    "            # Cost Function\n",
    "            J = -y_vect * np.log(a3) - (1 - y_vect) * np.log( 1 - a3)\n",
    "            J = J.sum()/m\n",
    "            J = J + lamb/m/2 * (self.theta1.sum() + self.theta2.sum()) # regularization terms\n",
    "            print('\\r','Cost function at iteration',iteration+1,'of',number_of_training_iterations, 'is' ,J, 'with alpha =',alpha, '& lambda =' , lamb, end='')\n",
    "\n",
    "            # Back Propagation\n",
    "            Delta1 = np.zeros(self.theta1.shape)\n",
    "            Delta2 = np.zeros(self.theta2.shape)\n",
    "            index = 1\n",
    "            for index in range(m):\n",
    "                delta3 = a3[:,index]-y_vect[:,index]\n",
    "                delta2 = dot( self.theta2.T , delta3[:,None])[1:] * self.__sigmoid_derivative(z2[:,index])[:,None]\n",
    "                Delta1 = Delta1 + dot(delta2 , X1[index,:][None,:])\n",
    "                Delta2 = Delta2 + dot(delta3[:,None] , a2_1[:,index][None,:] )\n",
    "\n",
    "            Theta1_grad = Delta1 / m\n",
    "            Theta2_grad = Delta2 / m\n",
    "            \n",
    "            # regularized BP\n",
    "            Theta1_grad = Theta1_grad + np.concatenate((np.zeros((self.n_hidden,1)), self.theta1[:,1:]*(lamb/m)),1);\n",
    "            Theta2_grad = Theta2_grad + np.concatenate((np.zeros((self.n_output,1)), self.theta2[:,1:]*(lamb/m)),1);\n",
    "            \n",
    "            adjust_theta1 = Theta1_grad * alpha\n",
    "            adjust_theta2 = Theta2_grad * alpha\n",
    "            \n",
    "            self.theta1 -= adjust_theta1\n",
    "            self.theta2 -= adjust_theta2\n",
    "\n",
    "            \n",
    "    # The neural network thinks.\n",
    "    def think(self, inputs):\n",
    "    # Pass inputs through our neural network (our single neuron).\n",
    "        if len(inputs.shape)==1: # only one example\n",
    "            inputs1 = np.concatenate( (np.array([1]) , inputs ) , 0)\n",
    "            inputs1 = inputs1[None,:]\n",
    "            print(inputs1.shape)\n",
    "        else: #more than one example\n",
    "            m = inputs.shape[0]\n",
    "            inputs1 = np.concatenate( (np.ones(( m , 1 )) , inputs ) , 1)\n",
    "        \n",
    "        z2 = dot( self.theta1 , inputs1.T )\n",
    "        a2 = self.__sigmoid(z2)\n",
    "        a2_1 = np.concatenate( (np.ones(( 1 ,a2.shape[1]   )) , a2 ) , 0)\n",
    "        z3 = dot( self.theta2 ,  a2_1)\n",
    "        a3 = self.__sigmoid(z3)  # output of NN\n",
    "        return a3.argmax(0)+1"
   ]
  },
  {
   "cell_type": "code",
   "execution_count": 5,
   "metadata": {
    "collapsed": false,
    "scrolled": true
   },
   "outputs": [],
   "source": [
    "# generate an object from neural network class\n",
    "# why 25 hidden neurons? I really do not know! It seems it is comming from experiments\n",
    "# 400 neurons as input bacause images are 20 by 20 in pixels and in total 400 pixels\n",
    "# 10 neurons for output layer because there are 10 different class as output, each for one number [1 to 10]\n",
    "neural_network = NeuralNetwork(400,25,10,0,0) # run this for first time\n",
    "\n",
    "# you can run this with a given theta\n",
    "# neural_network = NeuralNetwork(400,25,10,neural_network.theta1,neural_network.theta2) "
   ]
  },
  {
   "cell_type": "code",
   "execution_count": 7,
   "metadata": {
    "collapsed": false
   },
   "outputs": [
    {
     "name": "stdout",
     "output_type": "stream",
     "text": [
      "5000 samples with 400 features each\n",
      " Cost function at iteration 1000 of 1000 is 0.337136564789 with alpha = 0.9 lambda = 0"
     ]
    }
   ],
   "source": [
    "# train the network\n",
    "neural_network.train(X,y,1000,0.9,0)"
   ]
  },
  {
   "cell_type": "code",
   "execution_count": 8,
   "metadata": {
    "collapsed": false
   },
   "outputs": [
    {
     "name": "stdout",
     "output_type": "stream",
     "text": [
      "(1, 401)\n",
      "Predicted output = [6] and actual output is = [6]\n"
     ]
    },
    {
     "data": {
      "image/png": "[encoded data removed]",
      "text/plain": [
       "<matplotlib.figure.Figure at 0x7fa7b150d048>"
      ]
     },
     "metadata": {},
     "output_type": "display_data"
    }
   ],
   "source": [
    "# check how well it works. You can implement a function to check for all images and calculate the precision!\n",
    "# In octave, the same algorithm reached more than 90% but with using some advenced optimisation algorithms\n",
    "ind = 3260 # change the index to see other images\n",
    "print('Predicted output =' ,neural_network.think(X[ind,:]), 'and actual output is =', y[ind])\n",
    "img = X[ind][:]\n",
    "\n",
    "# the data of an image stored in a row and should be reshaped to be shown!\n",
    "# we know that all images are 20 * 20 pixels in size\n",
    "img = img.reshape((20,20)) \n",
    "img = img.T\n",
    "plt.imshow(img, cmap='gray')\n",
    "plt.show()"
   ]
  }
 ],
 "metadata": {
  "anaconda-cloud": {},
  "kernelspec": {
   "display_name": "Python [default]",
   "language": "python",
   "name": "python3"
  },
  "language_info": {
   "codemirror_mode": {
    "name": "ipython",
    "version": 3
   },
   "file_extension": ".py",
   "mimetype": "text/x-python",
   "name": "python",
   "nbconvert_exporter": "python",
   "pygments_lexer": "ipython3",
   "version": "3.5.2"
  }
 },
 "nbformat": 4,
 "nbformat_minor": 1
}
