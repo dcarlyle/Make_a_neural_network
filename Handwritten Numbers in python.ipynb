{
 "cells": [
  {
   "cell_type": "markdown",
   "metadata": {},
   "source": [
    "This is based on one of the projects defined by Andrew Ng and the online course Macine Learning at coursera! That Project has been done in Octave! And I would like to do it with python (Jupyter) to learn more about python and NN."
   ]
  },
  {
   "cell_type": "code",
   "execution_count": 1,
   "metadata": {
    "collapsed": false
   },
   "outputs": [],
   "source": [
    "# required libraries\n",
    "import scipy.io as sio\n",
    "import numpy as np\n",
    "import random\n",
    "import matplotlib\n",
    "import matplotlib.pyplot as plt"
   ]
  },
  {
   "cell_type": "code",
   "execution_count": 2,
   "metadata": {
    "collapsed": false
   },
   "outputs": [
    {
     "name": "stdout",
     "output_type": "stream",
     "text": [
      "<class 'dict'>\n",
      "\n",
      " input (of training data) of the neural netwok\n",
      "[[ 0.  0.  0. ...,  0.  0.  0.]\n",
      " [ 0.  0.  0. ...,  0.  0.  0.]\n",
      " [ 0.  0.  0. ...,  0.  0.  0.]\n",
      " ..., \n",
      " [ 0.  0.  0. ...,  0.  0.  0.]\n",
      " [ 0.  0.  0. ...,  0.  0.  0.]\n",
      " [ 0.  0.  0. ...,  0.  0.  0.]]\n",
      "size = (5000, 400)\n",
      "\n",
      " output (of training data) of the neural netwok\n",
      "[[10]\n",
      " [10]\n",
      " [10]\n",
      " ..., \n",
      " [ 9]\n",
      " [ 9]\n",
      " [ 9]]\n",
      "size = (5000, 1)\n"
     ]
    }
   ],
   "source": [
    "# import .mat file (octave or matlab file) and show some of them and their size\n",
    "training_data = sio.loadmat('ex4data1.mat')\n",
    "print(type(training_data))\n",
    "# print(training_data)\n",
    "X = training_data['X']\n",
    "y = training_data['y']\n",
    "print('\\n','input (of training data) of the neural netwok')\n",
    "print(X)\n",
    "print('size =',np.shape(X))\n",
    "print('\\n','output (of training data) of the neural netwok')\n",
    "print(y)\n",
    "print('size =',np.shape(y))"
   ]
  },
  {
   "cell_type": "code",
   "execution_count": 3,
   "metadata": {
    "collapsed": false
   },
   "outputs": [
    {
     "name": "stdout",
     "output_type": "stream",
     "text": [
      "image 4079 is number [8]\n"
     ]
    },
    {
     "data": {
      "image/png": "[encoded data removed]",
      "text/plain": [
       "<matplotlib.figure.Figure at 0x7f12904afcc0>"
      ]
     },
     "metadata": {},
     "output_type": "display_data"
    }
   ],
   "source": [
    "# show an image\n",
    "# random.seed(1)\n",
    "index = random.randint(0,np.shape(X)[0]) # 0 to 4999 indices\n",
    "print('image' ,index, 'is number', y[index])\n",
    "img = X[index][:]\n",
    "\n",
    "# the data of an image stored in a row and should be reshaped to be shown!\n",
    "# we know that all images are 20 * 20 pixels in size\n",
    "img = img.reshape((20,20)) \n",
    "img = img.T\n",
    "# print(img)\n",
    "plt.imshow(img, cmap='gray')\n",
    "plt.show()"
   ]
  },
  {
   "cell_type": "code",
   "execution_count": null,
   "metadata": {
    "collapsed": false
   },
   "outputs": [],
   "source": [
    "training_set_inputs = X\n",
    "\n",
    "n_input = 400 # #neurons at input level (one for each pixel)\n",
    "n_hidden = 25 # #neurons at hidden level (why_ I do not know! experiments shown that this is a good value)\n",
    "n_output = 10 # #neurons at output level (one for each value between zero to 10, 10 means number zero)\n",
    "\n",
    "lamb = 1; #regularization factor\n",
    "\n",
    "theta1 = np.random.random((n_hidden,n_input+1)) # initilise weights for first layer (with bias)\n",
    "theta2 = np.random.random((n_output,n_hidden+1)) # initilise weights for 2nd layer (with bias)\n",
    "# print(theta1.shape)\n",
    "\n",
    "m = training_set_inputs.shape[0]; # number of samples\n",
    "n = training_set_inputs.shape[1]; # number of features\n",
    "\n",
    "y_vect = np.zeros((n_output,m))\n",
    "for index in range(m):\n",
    "    y_vect [y[index]-1,index] = 1\n",
    "\n",
    "X1 = np.concatenate( (np.ones(( m , 1 )) , training_set_inputs ) , 1)\n",
    "z2 = dot( theta1 , X1.T )\n",
    "a2 = sigmoid(z2)\n",
    "a2_1 = np.concatenate( (np.ones(( 1 ,a2.shape[1]   )) , a2 ) , 0)\n",
    "z3 = dot( theta2 ,  a2_1)\n",
    "a3 = sigmoid(z3)  # output of NN\n",
    "\n",
    "# Cost Function\n",
    "J = -y_vect * np.log(a3) - (1 - y_vect) * np.log( 1 - a3)\n",
    "J = J.sum()/m\n",
    "J = J + lamb/m/2 * (theta1.sum() + theta2.sum()) # regularization terms\n",
    "\n",
    "# Back Propagation\n",
    "Delta1 = np.zeros(theta1.shape)\n",
    "Delta2 = np.zeros(theta2.shape)\n",
    "\n",
    "index = 1\n",
    "for index in range(m):\n",
    "    delta3 = a3[:,index]-y_vect[:,index]\n",
    "    delta2 = dot( theta2.T , delta3[:,None])[1:] * sigmoid_derivative(z2[:,index])[:,None]\n",
    "    Delta1 = Delta1 + dot(delta2 , X1[index,:][None,:])\n",
    "    Delta2 = Delta2 + dot(delta3[:,None] , a2_1[:,index][None,:] )\n",
    "\n",
    "Theta1_grad = Delta1 / m\n",
    "Theta2_grad = Delta2 / m\n",
    "\n",
    "Theta1_grad = Theta1_grad + np.concatenate((np.zeros((n_hidden,1)), theta1[:,1:]*(lamb/m)),1);\n",
    "Theta2_grad = Theta2_grad + np.concatenate((np.zeros((n_output,1)), theta2[:,1:]*(lamb/m)),1);"
   ]
  },
  {
   "cell_type": "code",
   "execution_count": 31,
   "metadata": {
    "collapsed": false
   },
   "outputs": [],
   "source": [
    "# given by Siraj: https://github.com/yosoufe/Make_a_neural_network/blob/master/demo.py\n",
    "# and modified by me! the modification is to make the neural network bigger to :\n",
    "# 1 input layer\n",
    "# 1 hidden layer\n",
    "# 1 output layer (with 10 classes, one for each number)\n",
    "\n",
    "\n",
    "from numpy import exp, array, random, dot\n",
    "\n",
    "class NeuralNetwork():\n",
    "    def __init__(self,N_input,N_hidden,N_output):\n",
    "        self.n_input = N_input # #neurons at input level\n",
    "        self.n_hidden = N_hidden # #neurons at hidden level\n",
    "        self.n_output = N_output # #neurons at output level\n",
    "        \n",
    "        self.theta1 = np.random.random((N_hidden,N_input+1)) # initilise weights for first layer (with bias)\n",
    "        self.theta2 = np.random.random((N_output,N_hidden+1)) # initilise weights for 2nd layer (with bias)\n",
    "\n",
    "    # The Sigmoid function, which describes an S shaped curve.\n",
    "    # We pass the weighted sum of the inputs through this function to\n",
    "    # normalise them between 0 and 1.\n",
    "    def __sigmoid(self, x):\n",
    "        return 1 / (1 + exp(-x))\n",
    "\n",
    "    # The derivative of the Sigmoid function.\n",
    "    # This is the gradient of the Sigmoid curve.\n",
    "    # It indicates how confident we are about the existing weight.\n",
    "    def __sigmoid_derivative(self, x):\n",
    "        return x * (1 - x)\n",
    "\n",
    "    # We train the neural network through a process of trial and error.\n",
    "    # Adjusting the synaptic weights each time.\n",
    "    def train(self, training_set_inputs, training_set_outputs, number_of_training_iterations,alpha,lamb):\n",
    "        X = training_set_inputs\n",
    "        y = training_set_outputs\n",
    "        m = X.shape[0]; # number of samples\n",
    "        n = X.shape[1]; # number of features\n",
    "        print (m , 'samples with' , n , 'features each')\n",
    "        y_vect = np.zeros((self.n_output,m))\n",
    "        for index in range(m):\n",
    "            y_vect [y[index]-1,index] = 1\n",
    "        \n",
    "        X1 = np.concatenate( (np.ones(( m , 1 )) , training_set_inputs ) , 1)\n",
    "        for iteration in range(number_of_training_iterations):\n",
    "            z2 = dot( self.theta1 , X1.T )\n",
    "            a2 = self.__sigmoid(z2)\n",
    "            a2_1 = np.concatenate( (np.ones(( 1 ,a2.shape[1]   )) , a2 ) , 0)\n",
    "            z3 = dot( self.theta2 ,  a2_1)\n",
    "            a3 = self.__sigmoid(z3)  # output of NN\n",
    "\n",
    "            # Cost Function\n",
    "            J = -y_vect * np.log(a3) - (1 - y_vect) * np.log( 1 - a3)\n",
    "            J = J.sum()/m\n",
    "            J = J + lamb/m/2 * (self.theta1.sum() + self.theta2.sum()) # regularization terms\n",
    "            print('Cost function at iteration',iteration, 'is' ,J)\n",
    "\n",
    "            # Back Propagation\n",
    "            Delta1 = np.zeros(self.theta1.shape)\n",
    "            Delta2 = np.zeros(self.theta2.shape)\n",
    "            index = 1\n",
    "            for index in range(m):\n",
    "                delta3 = a3[:,index]-y_vect[:,index]\n",
    "                delta2 = dot( self.theta2.T , delta3[:,None])[1:] * self.__sigmoid_derivative(z2[:,index])[:,None]\n",
    "                Delta1 = Delta1 + dot(delta2 , X1[index,:][None,:])\n",
    "                Delta2 = Delta2 + dot(delta3[:,None] , a2_1[:,index][None,:] )\n",
    "\n",
    "            Theta1_grad = Delta1 / m\n",
    "            Theta2_grad = Delta2 / m\n",
    "            \n",
    "            # regularized BP\n",
    "            Theta1_grad = Theta1_grad + np.concatenate((np.zeros((self.n_hidden,1)), self.theta1[:,1:]*(lamb/m)),1);\n",
    "            Theta2_grad = Theta2_grad + np.concatenate((np.zeros((self.n_output,1)), self.theta2[:,1:]*(lamb/m)),1);\n",
    "            \n",
    "            adjust_theta1 = Theta1_grad * alpha\n",
    "            adjust_theta2 = Theta2_grad * alpha\n",
    "            \n",
    "            self.theta1 += adjust_theta1\n",
    "            self.theta2 += adjust_theta2\n",
    "#         print(self.theta1)\n",
    "#         print(self.theta2)\n",
    "    # The neural network thinks.\n",
    "    def think(self, inputs):\n",
    "    # Pass inputs through our neural network (our single neuron).\n",
    "        m = inputs.shape[0]\n",
    "        inputs1 = np.concatenate( (np.ones(( m , 1 )) , inputs ) , 1)\n",
    "        z2 = dot( self.theta1 , inputs1.T )\n",
    "        a2 = self.__sigmoid(z2)\n",
    "        a2_1 = np.concatenate( (np.ones(( 1 ,a2.shape[1]   )) , a2 ) , 0)\n",
    "        z3 = dot( self.theta2 ,  a2_1)\n",
    "        a3 = self.__sigmoid(z3)  # output of NN\n",
    "        return a3.argmax(0)"
   ]
  },
  {
   "cell_type": "code",
   "execution_count": 33,
   "metadata": {
    "collapsed": false
   },
   "outputs": [
    {
     "name": "stdout",
     "output_type": "stream",
     "text": [
      "5000 samples with 400 features each\n",
      "Cost function at iteration 0 is 120.105628618\n",
      "Cost function at iteration 1 is 8.76076054091\n"
     ]
    },
    {
     "name": "stderr",
     "output_type": "stream",
     "text": [
      "/media/yousof/Volume/SDC/Toolkits/anaconda3/lib/python3.5/site-packages/ipykernel/__main__.py:23: RuntimeWarning: overflow encountered in exp\n"
     ]
    },
    {
     "name": "stdout",
     "output_type": "stream",
     "text": [
      "Cost function at iteration 2 is -1.58370443843\n",
      "Cost function at iteration 3 is -280.639568871\n",
      "Cost function at iteration 4 is -532700.424347\n",
      "Cost function at iteration 5 is -7.10353108872e+12\n",
      "Cost function at iteration 6 is -1.52046675117e+27\n",
      "Cost function at iteration 7 is -6.97980436027e+55\n",
      "Cost function at iteration 8 is -1.47121641655e+113\n",
      "Cost function at iteration 9 is -6.53799621042e+227\n"
     ]
    },
    {
     "name": "stderr",
     "output_type": "stream",
     "text": [
      "/media/yousof/Volume/SDC/Toolkits/anaconda3/lib/python3.5/site-packages/ipykernel/__main__.py:29: RuntimeWarning: overflow encountered in multiply\n",
      "/media/yousof/Volume/SDC/Toolkits/anaconda3/lib/python3.5/site-packages/ipykernel/__main__.py:64: RuntimeWarning: invalid value encountered in add\n",
      "/media/yousof/Volume/SDC/Toolkits/anaconda3/lib/python3.5/site-packages/ipykernel/__main__.py:63: RuntimeWarning: overflow encountered in multiply\n"
     ]
    },
    {
     "name": "stdout",
     "output_type": "stream",
     "text": [
      "Cost function at iteration 10 is nan\n",
      "Cost function at iteration 11 is nan\n",
      "Cost function at iteration 12 is nan\n",
      "Cost function at iteration 13 is nan\n",
      "Cost function at iteration 14 is nan\n",
      "Cost function at iteration 15 is nan\n",
      "Cost function at iteration 16 is nan\n",
      "Cost function at iteration 17 is nan\n",
      "Cost function at iteration 18 is nan\n",
      "Cost function at iteration 19 is nan\n"
     ]
    }
   ],
   "source": [
    "neural_network = NeuralNetwork(400,25,10)\n",
    "neural_network.train(X,y,20,0.001,10)\n"
   ]
  },
  {
   "cell_type": "code",
   "execution_count": 26,
   "metadata": {
    "collapsed": false
   },
   "outputs": [
    {
     "ename": "ValueError",
     "evalue": "all the input arrays must have same number of dimensions",
     "output_type": "error",
     "traceback": [
      "\u001b[0;31m---------------------------------------------------------------------------\u001b[0m",
      "\u001b[0;31mValueError\u001b[0m                                Traceback (most recent call last)",
      "\u001b[0;32m<ipython-input-26-fd52e3a6c204>\u001b[0m in \u001b[0;36m<module>\u001b[0;34m()\u001b[0m\n\u001b[1;32m      1\u001b[0m \u001b[0mind\u001b[0m \u001b[0;34m=\u001b[0m \u001b[0;36m126\u001b[0m\u001b[0;34m\u001b[0m\u001b[0m\n\u001b[0;32m----> 2\u001b[0;31m \u001b[0mprint\u001b[0m\u001b[0;34m(\u001b[0m\u001b[0;34m'Predicted output ='\u001b[0m \u001b[0;34m,\u001b[0m\u001b[0mneural_network\u001b[0m\u001b[0;34m.\u001b[0m\u001b[0mthink\u001b[0m\u001b[0;34m(\u001b[0m\u001b[0mX\u001b[0m\u001b[0;34m[\u001b[0m\u001b[0mind\u001b[0m\u001b[0;34m,\u001b[0m\u001b[0;34m:\u001b[0m\u001b[0;34m]\u001b[0m\u001b[0;34m)\u001b[0m\u001b[0;34m,\u001b[0m \u001b[0;34m'while actual output is ='\u001b[0m\u001b[0;34m,\u001b[0m \u001b[0my\u001b[0m\u001b[0;34m[\u001b[0m\u001b[0mind\u001b[0m\u001b[0;34m]\u001b[0m\u001b[0;34m)\u001b[0m\u001b[0;34m\u001b[0m\u001b[0m\n\u001b[0m",
      "\u001b[0;32m<ipython-input-22-b9f2119fe1e9>\u001b[0m in \u001b[0;36mthink\u001b[0;34m(self, inputs)\u001b[0m\n\u001b[1;32m     82\u001b[0m     \u001b[0;31m# Pass inputs through our neural network (our single neuron).\u001b[0m\u001b[0;34m\u001b[0m\u001b[0;34m\u001b[0m\u001b[0m\n\u001b[1;32m     83\u001b[0m         \u001b[0mm\u001b[0m \u001b[0;34m=\u001b[0m \u001b[0minputs\u001b[0m\u001b[0;34m.\u001b[0m\u001b[0mshape\u001b[0m\u001b[0;34m[\u001b[0m\u001b[0;36m0\u001b[0m\u001b[0;34m]\u001b[0m\u001b[0;34m\u001b[0m\u001b[0m\n\u001b[0;32m---> 84\u001b[0;31m         \u001b[0minputs1\u001b[0m \u001b[0;34m=\u001b[0m \u001b[0mnp\u001b[0m\u001b[0;34m.\u001b[0m\u001b[0mconcatenate\u001b[0m\u001b[0;34m(\u001b[0m \u001b[0;34m(\u001b[0m\u001b[0mnp\u001b[0m\u001b[0;34m.\u001b[0m\u001b[0mones\u001b[0m\u001b[0;34m(\u001b[0m\u001b[0;34m(\u001b[0m \u001b[0mm\u001b[0m \u001b[0;34m,\u001b[0m \u001b[0;36m1\u001b[0m \u001b[0;34m)\u001b[0m\u001b[0;34m)\u001b[0m \u001b[0;34m,\u001b[0m \u001b[0minputs\u001b[0m \u001b[0;34m)\u001b[0m \u001b[0;34m,\u001b[0m \u001b[0;36m1\u001b[0m\u001b[0;34m)\u001b[0m\u001b[0;34m\u001b[0m\u001b[0m\n\u001b[0m\u001b[1;32m     85\u001b[0m         \u001b[0mz2\u001b[0m \u001b[0;34m=\u001b[0m \u001b[0mdot\u001b[0m\u001b[0;34m(\u001b[0m \u001b[0mself\u001b[0m\u001b[0;34m.\u001b[0m\u001b[0mtheta1\u001b[0m \u001b[0;34m,\u001b[0m \u001b[0minputs1\u001b[0m\u001b[0;34m.\u001b[0m\u001b[0mT\u001b[0m \u001b[0;34m)\u001b[0m\u001b[0;34m\u001b[0m\u001b[0m\n\u001b[1;32m     86\u001b[0m         \u001b[0ma2\u001b[0m \u001b[0;34m=\u001b[0m \u001b[0mself\u001b[0m\u001b[0;34m.\u001b[0m\u001b[0m__sigmoid\u001b[0m\u001b[0;34m(\u001b[0m\u001b[0mz2\u001b[0m\u001b[0;34m)\u001b[0m\u001b[0;34m\u001b[0m\u001b[0m\n",
      "\u001b[0;31mValueError\u001b[0m: all the input arrays must have same number of dimensions"
     ]
    }
   ],
   "source": [
    "ind = 126\n",
    "print('Predicted output =' ,neural_network.think(X[ind,:]), 'while actual output is =', y[ind])"
   ]
  },
  {
   "cell_type": "code",
   "execution_count": null,
   "metadata": {
    "collapsed": false
   },
   "outputs": [],
   "source": [
    "# print(  dot([2,1,0],[[1] ,[2] ,[3]])   )\n",
    "# print(   np.array([1.0 ,2. ,3.]) * np.array([1. ,2. ,3.])  ) # element wise\n",
    "# print(  dot( np.array([1.0 ,2. ,3.]) , np.array([[1.] ,[2.] ,[3.]]) ) ) # matrix \n",
    "# print(   np.array([[1.0] ,[2.] ,[3.]]) / np.array([[1.] ,[2.] ,[3.]])  ) # element wise\n",
    "a = np.array([[1 ,2 ,3],[1 ,2 ,3]])\n",
    "b = np.array([2,0,1])\n",
    "# print(a[None,:])\n",
    "# print(b[:,None])\n",
    "print(Theta1_grad.shape)\n",
    "print(a.reshape(-1))"
   ]
  },
  {
   "cell_type": "code",
   "execution_count": null,
   "metadata": {
    "collapsed": false
   },
   "outputs": [],
   "source": [
    "# debugging\n",
    "\n",
    "print(J)\n",
    "print(delta3)\n",
    "# print(X.shape)\n",
    "# print( np.ones(( X.shape[0] , 1 )).shape )\n",
    "# print( np.concatenate( (np.ones(( X.shape[0] , 1 )) , X ) , 1) )\n",
    "print(dot( theta2.T , delta3[:,None])[1:].shape)\n",
    "print(sigmoid_derivative(z2[:,index]).shape)\n",
    "print(Delta1.shape)"
   ]
  }
 ],
 "metadata": {
  "anaconda-cloud": {},
  "kernelspec": {
   "display_name": "Python [default]",
   "language": "python",
   "name": "python3"
  },
  "language_info": {
   "codemirror_mode": {
    "name": "ipython",
    "version": 3
   },
   "file_extension": ".py",
   "mimetype": "text/x-python",
   "name": "python",
   "nbconvert_exporter": "python",
   "pygments_lexer": "ipython3",
   "version": "3.5.2"
  }
 },
 "nbformat": 4,
 "nbformat_minor": 1
}
